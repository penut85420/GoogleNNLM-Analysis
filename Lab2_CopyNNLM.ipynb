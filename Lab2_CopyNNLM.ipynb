{
 "cells": [
  {
   "cell_type": "markdown",
   "metadata": {},
   "source": [
    "### 轉存 NNLM 的權重\n",
    "+ 將 NNLM 的權重視為一般的 Numpy Array 做轉存"
   ]
  },
  {
   "cell_type": "code",
   "execution_count": 1,
   "metadata": {},
   "outputs": [],
   "source": [
    "import numpy as np\n",
    "import tensorflow as tf\n",
    "import tensorflow_hub as hub\n",
    "\n",
    "emb_layer = hub.KerasLayer('./NNLM-ZH')\n",
    "np.save('emb.npy', emb_layer.get_weights()[0])\n",
    "del emb_layer"
   ]
  },
  {
   "cell_type": "markdown",
   "metadata": {},
   "source": [
    "### 讀取權重後放入 Keras Embedding Layer\n",
    "+ 使用 `tf.keras.initializers.Constant` 將 Numpy Array 轉成 Layer Weights 即可使用"
   ]
  },
  {
   "cell_type": "code",
   "execution_count": 2,
   "metadata": {},
   "outputs": [
    {
     "name": "stdout",
     "output_type": "stream",
     "text": [
      "Model: \"model\"\n",
      "_________________________________________________________________\n",
      "Layer (type)                 Output Shape              Param #   \n",
      "=================================================================\n",
      "input_1 (InputLayer)         [(None, 10)]              0         \n",
      "_________________________________________________________________\n",
      "embedding (Embedding)        (None, 10, 128)           124310656 \n",
      "_________________________________________________________________\n",
      "lstm (LSTM)                  (None, 128)               131584    \n",
      "_________________________________________________________________\n",
      "dense (Dense)                (None, 1)                 129       \n",
      "=================================================================\n",
      "Total params: 124,442,369\n",
      "Trainable params: 131,713\n",
      "Non-trainable params: 124,310,656\n",
      "_________________________________________________________________\n"
     ]
    }
   ],
   "source": [
    "inn = tf.keras.layers.Input(shape=(10,))\n",
    "\n",
    "# Load embedding weights\n",
    "emb_weights = np.load('emb.npy')\n",
    "emb_const = tf.keras.initializers.Constant(emb_weights)\n",
    "emb = tf.keras.layers.Embedding(\n",
    "    emb_weights.shape[0],\n",
    "    emb_weights.shape[1],\n",
    "    embeddings_constraint=emb_const,\n",
    "    trainable=False # Optimal\n",
    ")(inn)\n",
    "\n",
    "hid = tf.keras.layers.LSTM(128)(emb)\n",
    "out = tf.keras.layers.Dense(1)(hid)\n",
    "\n",
    "model = tf.keras.Model(inn, out)\n",
    "model.compile('adam', 'binary_crossentropy', ['acc'])\n",
    "model.summary()"
   ]
  },
  {
   "cell_type": "code",
   "execution_count": 3,
   "metadata": {},
   "outputs": [
    {
     "name": "stdout",
     "output_type": "stream",
     "text": [
      "Train on 10000 samples\n",
      "Epoch 1/2\n",
      "10000/10000 [==============================] - 4s 383us/sample - loss: 0.7824 - acc: 0.4973\n",
      "Epoch 2/2\n",
      "10000/10000 [==============================] - 2s 166us/sample - loss: 0.6971 - acc: 0.5088\n"
     ]
    }
   ],
   "source": [
    "x = np.random.randint(0, emb_weights.shape[0] - 1, (10000, 10))\n",
    "y = np.random.randint(0, 2, (10000,))\n",
    "\n",
    "model.fit(x, y, epochs=2);"
   ]
  }
 ],
 "metadata": {
  "kernelspec": {
   "display_name": "Python 3",
   "language": "python",
   "name": "python3"
  },
  "language_info": {
   "codemirror_mode": {
    "name": "ipython",
    "version": 3
   },
   "file_extension": ".py",
   "mimetype": "text/x-python",
   "name": "python",
   "nbconvert_exporter": "python",
   "pygments_lexer": "ipython3",
   "version": "3.7.4"
  }
 },
 "nbformat": 4,
 "nbformat_minor": 4
}
